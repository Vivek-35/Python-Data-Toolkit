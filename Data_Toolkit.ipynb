{
  "nbformat": 4,
  "nbformat_minor": 0,
  "metadata": {
    "colab": {
      "provenance": []
    },
    "kernelspec": {
      "name": "python3",
      "display_name": "Python 3"
    },
    "language_info": {
      "name": "python"
    }
  },
  "cells": [
    {
      "cell_type": "markdown",
      "source": [
        "# **Theory Questions**\n",
        "1. What is NumPy, amd why is it widely used in Python?\n",
        "   - NumPy is a powerful Python library for numerical computing. It offers\n",
        "     efficient multi-dimensional arrays, fast performance, and a wide range  of mathematical functions. NumPy is widely used in data science, machine learning, and scientific computing due to its speed, flexibility, and integration with other libraries.\n",
        "  \n",
        "2. How does broadcasting work in NumPy?\n",
        "   - In NumPy, broadcasting allows arrays with different shapes to be\n",
        "     combined in arithmetic operations without explicit looping. It\n",
        "     automatically expands smaller arrays to match the shape of larger ones.\n",
        "\n",
        "     - Alignment of Dimensions -> NumPy compares array shapes starting from the last dimension and works backward.\n",
        "     - Rules for Broadcasting ->\n",
        "         - Dimensions must be equal or one of them must be 1.\n",
        "         - If a dimension is missing, it's treated as 1.\n",
        "\n",
        "3. What is a Pandas DataFrame?\n",
        "   - A Pandas DataFrame is a two-dimensional, tabular data structure in\n",
        "     Python that is widely used for data manipulation and analysis. It is part of the Pandas library.\n",
        "\n",
        "     Key Features of a DataFrame:\n",
        "       - Similar to an Excel spreadsheet or a SQL table.\n",
        "       - Consists of rows and columns.\n",
        "       - Each column can hold data of different types (e.g., integers,\n",
        "         strings, floats, etc.).\n",
        "       - Built-in functions make data cleaning, filtering, and analysis\n",
        "         easy.\n",
        "\n",
        "4. Explain the use of the Groupby() method in Pandas.\n",
        "   - The groupby() method in Pandas is used to group data based on one or\n",
        "     more columns, allowing you to perform aggregate functions like sum, mean, count, etc., on those groups.\n",
        "     \n",
        "      Use Cases:\n",
        "       - Summarizing data.\n",
        "       - Performing aggregate calculations.\n",
        "       - Data segmentation and analysis.\n"
      ],
      "metadata": {
        "id": "TP7wefpapQ3r"
      }
    },
    {
      "cell_type": "code",
      "source": [
        "#syntax >> df.groupby('column_name').aggregate_function()\n",
        "\n",
        "#example\n",
        "\n",
        "import pandas as pd\n",
        "\n",
        "data = {\n",
        "    'Department': ['HR', 'IT', 'HR', 'IT', 'Finance'],\n",
        "    'Salary': [30000, 40000, 32000, 45000, 50000]\n",
        "}\n",
        "\n",
        "df = pd.DataFrame(data)\n",
        "\n",
        "# Grouping by 'Department' and calculating total salary\n",
        "result = df.groupby('Department')['Salary'].sum()\n",
        "\n",
        "print(result)\n"
      ],
      "metadata": {
        "colab": {
          "base_uri": "https://localhost:8080/"
        },
        "id": "eMfOZPZuvGT0",
        "outputId": "c7f1d4de-e01c-4ca6-aedc-56c46e21b190"
      },
      "execution_count": null,
      "outputs": [
        {
          "output_type": "stream",
          "name": "stdout",
          "text": [
            "Department\n",
            "Finance    50000\n",
            "HR         62000\n",
            "IT         85000\n",
            "Name: Salary, dtype: int64\n"
          ]
        }
      ]
    },
    {
      "cell_type": "markdown",
      "source": [
        "5. Why is Seaborn preferred for statistical visualizations?\n",
        "   - Seaborn is preferred for statistical visualizations because:\n",
        "\n",
        "       - Built-in Statistical Functions -> Seaborn simplifies plotting\n",
        "         statistical relationships such as regression lines, distribution plots, and box plots.\n",
        "\n",
        "       - Beautiful and Informative Plots -> It offers aesthetically\n",
        "         pleasing, color-rich graphs by default, enhancing readability.\n",
        "\n",
        "       - High-Level Abstraction -> Seaborn simplifies complex\n",
        "         visualizations with minimal code.\n",
        "\n",
        "       - Integration with Pandas -> It works seamlessly with Pandas\n",
        "         DataFrames, making data manipulation and visualization easier.\n",
        "\n",
        "       - Advanced Plot Types -> Provides specialized plots like violin\n",
        "         plots, pair plots, and heatmaps for detailed analysis.\n",
        "\n",
        "       - Automatic Handling of Data -> Seaborn efficiently manages missing\n",
        "         data and automatically maps data to plot aesthetics.\n",
        "\n",
        "6. What are the differences between Numpy arrays and Python lists?\n",
        "   - NumPy arrays and Python lists are both used to store data, but they\n",
        "     have key differences in functionality and performance. NumPy arrays are specifically designed for numerical operations and offer faster processing due to their fixed data types and efficient memory management. They support multi-dimensional data structures, making them ideal for complex mathematical computations. On the other hand, Python lists are more flexible as they can store elements of different data types within the same list, but this flexibility leads to slower performance for large datasets. NumPy arrays also provide a wide range of built-in functions for mathematical operations, broadcasting, and linear algebra, which are not available directly in Python lists. Additionally, array slicing and manipulation in NumPy are more powerful and concise compared to Python lists. Overall, while Python lists are versatile for general-purpose programming, NumPy arrays are preferred for performance-intensive tasks such as data analysis, scientific computing, and machine learning.\n",
        "\n",
        "7. What is a heatmap, and when should it be used?\n",
        "   - A heatmap is a data visualization technique that uses color gradients\n",
        "     to represent the intensity of values in a dataset. It is typically used to display correlations, patterns, or concentrations of data points in a matrix-like format. Darker or more intense colors often indicate higher values, while lighter colors represent lower values.\n",
        "\n",
        "     When to Use a Heatmap:\n",
        "       - Correlation Analysis -> Ideal for visualizing relationships\n",
        "         between multiple variables in a dataset.\n",
        "       - Trend Identification -> Helps highlight patterns or outliers in\n",
        "         large data tables.\n",
        "       - Feature Selection -> Useful in machine learning to identify\n",
        "         highly\n",
        "         correlated features.\n",
        "       - Data Distribution -> Effective for showing frequency or density\n",
        "         in datasets."
      ],
      "metadata": {
        "id": "VNFIAYulvrez"
      }
    },
    {
      "cell_type": "code",
      "source": [
        "import seaborn as sns\n",
        "import matplotlib.pyplot as plt\n",
        "\n",
        "# Sample data\n",
        "data = sns.load_dataset('flights').pivot('month', 'year', 'passengers')\n",
        "\n",
        "# Creating a heatmap\n",
        "sns.heatmap(data, cmap='YlGnBu', annot=True)\n",
        "\n",
        "plt.show()\n"
      ],
      "metadata": {
        "id": "a-3lrHsVzIhA"
      },
      "execution_count": null,
      "outputs": []
    },
    {
      "cell_type": "markdown",
      "source": [
        "8. What does the term \"vectorized operation\" mean in Numpy?\n",
        "   - In NumPy, a vectorized operation refers to performing operations on\n",
        "     entire arrays (or large chunks of data) without using explicit loops. This approach leverages low-level optimizations in C, resulting in faster execution and more concise code.\n",
        "\n",
        "     Key Benefits of Vectorized Operations:\n",
        "      - Faster Execution -> Operations are optimized for performance by\n",
        "        avoiding Python-level loops.\n",
        "      - Cleaner Code -> Reduces the need for lengthy for loops, improving\n",
        "        code readability.\n",
        "      - Efficient Memory Usage -> Utilizes NumPy's optimized data\n",
        "        structures.\n",
        "\n",
        "9. How does matplotlib differ from Plotly?\n",
        "   - Matplotlib and Plotly are both powerful Python libraries used for\n",
        "     data visualization, but they differ significantly in functionality, style, and interactivity. Matplotlib is a static visualization library that excels in creating traditional 2D plots such as line charts, bar graphs, and scatter plots. It offers extensive customization options, making it ideal for detailed control over plot appearance. However, its visual style often requires additional styling for modern, presentation-ready graphics. On the other hand, Plotly is designed for creating interactive and dynamic visualizations directly in web-based formats. It supports zooming, panning, and tooltips by default, making it well-suited for dashboards, data exploration, and web applications. While Matplotlib is widely used in scientific computing for static visualizations, Plotly’s interactive capabilities make it preferable for modern data visualization tasks where user engagement is key.\n",
        "\n",
        "10. What is the significance of hierarchical indexing in Pandas?\n",
        "    - Hierarchical indexing in Pandas, also known as MultiIndexing, is a\n",
        "      powerful feature that allows multiple levels of index labels within a DataFrame or Series. It is particularly useful for handling multi-dimensional data in a tabular format, enabling more complex data analysis and organization.\n",
        "\n",
        "      Significance of Hierarchical Indexing:\n",
        "        - Enhanced Data Organization -> It allows data to be structured in\n",
        "          multiple levels, making it easier to manage and analyze grouped data.\n",
        "\n",
        "        - Efficient Data Selection: Multi-level indexing enables intuitive\n",
        "          slicing, filtering, and aggregation of data.\n",
        "\n",
        "        - Complex Data Representation: Ideal for datasets with multiple\n",
        "          dimensions like time series, geographical data, or experimental results.\n",
        "\n",
        "        - Flexible Grouping: Facilitates advanced grouping operations in\n",
        "          combination with .groupby().\n",
        "\n",
        "11. What is the role of Seaborn's pairplot() function?\n",
        "    - The pairplot() function in Seaborn is used to create a grid of\n",
        "      scatter plots that visualize pairwise relationships between numeric variables in a dataset. It is particularly useful for exploratory data analysis (EDA), as it helps identify trends, correlations, and potential outliers. By default, pairplot() plots each numeric column against every other numeric column, displaying scatter plots for variable pairs and histograms (or KDE plots) for individual distributions. It also supports color-coding (hue parameter) to distinguish data points based on categorical variables, enhancing the visual clarity of group distinctions. The pairplot() function is ideal for gaining quick insights into complex datasets, especially in machine learning tasks where understanding feature relationships is crucial.\n",
        "\n",
        "12. What is the purpose of the describe() function in Pandas?\n",
        "    - The describe() function in Pandas is used to generate summary\n",
        "      statistics for numerical (and optionally categorical) columns in a DataFrame. It provides key insights such as count, mean, standard deviation, minimum, maximum, and quartiles (25%, 50%, 75%).\n",
        "\n",
        "     Purpose of describe() Function:\n",
        "      - Quick Overview -> Offers a fast summary of data distribution and\n",
        "        central tendencies.\n",
        "      - Outlier Detection -> Helps identify unusual values by examining\n",
        "        min, max, and quartile ranges.\n",
        "      - Data Quality Check -> Reveals missing values through the count\n",
        "        output.\n",
        "      - Feature Understanding -> Useful for analyzing numeric data in data\n",
        "        analysis and machine learning.\n",
        "\n",
        "13. Why is handling missing data important in Pandas?\n",
        "    - Handling missing data in Pandas is crucial because incomplete data\n",
        "      can significantly impact the accuracy and reliability of analysis, modeling, and decision-making. Missing values can distort statistical summaries, affect visualizations, and lead to errors in machine learning models. Ignoring them may result in biased insights or invalid conclusions. Pandas provides effective tools like .fillna(), .dropna(), and .interpolate() to manage missing data by either filling, removing, or estimating the missing values. Choosing the right strategy depends on the dataset's context — for example, filling gaps with the mean, median, or mode is common for numerical data, while forward or backward filling works well in time-series data. Properly handling missing data ensures data integrity, improves model performance, and leads to more accurate insights.\n",
        "\n",
        "14. What are the benefits of using Plotly for data visualization?\n",
        "    - Plotly offers several benefits for data visualization, making it a\n",
        "      popular choice for creating interactive and insightful visualizations:\n",
        "\n",
        "       - Interactive Visuals -> Plotly's charts are highly interactive by\n",
        "         default, supporting features like zooming, panning, tooltips, and hover effects, enhancing data exploration.\n",
        "\n",
        "       - Wide Range of Chart Types -> Plotly provides diverse chart\n",
        "         options such as line charts, bar plots, scatter plots, heatmaps, 3D plots, and geographical maps, catering to various visualization needs.\n",
        "\n",
        "       - Web-Ready Visuals -> Plotly generates web-based visualizations\n",
        "         that can be easily embedded in web applications or dashboards.\n",
        "\n",
        "       - Ease of Use -> With simple syntax and integration with libraries\n",
        "         like Pandas, NumPy, and Dash, Plotly simplifies data visualization tasks.\n",
        "\n",
        "       - Customization -> It offers extensive customization options for\n",
        "         styling, annotations, and layout adjustments, providing flexibility for tailored visual presentations.\n",
        "\n",
        "       - Supports Big Data -> Plotly efficiently handles large datasets\n",
        "         with its optimized rendering and responsive design.\n",
        "\n",
        "       - Integration with Dash -> Plotly seamlessly integrates with Dash,\n",
        "         a framework for building interactive web applications in Python.\n",
        "\n",
        "15. How does NumPy handles multidimensional arrays?\n",
        "    - NumPy handles multidimensional arrays using its powerful ndarray\n",
        "      (N-dimensional array) object, which allows efficient storage and manipulation of multi-dimensional data. The ndarray can have any number of dimensions, defined by its shape (number of rows, columns, etc.) and axes (one per dimension). NumPy’s array operations are optimized for performance, enabling fast element-wise calculations, broadcasting, and slicing. Functions like .reshape(), .transpose(), and .ravel() provide flexible ways to manipulate array dimensions without copying data. Additionally, NumPy efficiently manages memory with its contiguous storage, ensuring faster data access compared to nested Python lists. This makes NumPy highly effective for handling large datasets in scientific computing, machine learning, and data analysis.\n",
        "\n",
        "16. What is the role of Bokeh in data visualization?\n",
        "    - Bokeh is a powerful Python library used for creating interactive,\n",
        "      web-ready visualizations. It is designed to handle large datasets efficiently and generate dynamic graphics directly in web browsers. Bokeh excels in producing interactive plots, dashboards, and data applications with minimal effort.\n",
        "\n",
        "      Key Roles of Bokeh in Data Visualization:\n",
        "       - Interactive Visuals -> Bokeh provides tools like zoom, pan,\n",
        "         hover, and dynamic updates, enhancing data exploration.\n",
        "       - Web Integration -> Visualizations are rendered in HTML and\n",
        "         JavaScript, making them suitable for embedding in web applications.\n",
        "       - Scalability -> Bokeh efficiently manages large and streaming\n",
        "         datasets for real-time visualization.\n",
        "       - Flexible Layouts -> Bokeh’s grid and widget system allow\n",
        "         developers to build interactive dashboards.\n",
        "       - Integration -> Bokeh integrates well with popular data tools like\n",
        "         Pandas, NumPy, and Jupyter Notebooks.\n",
        "\n",
        "17. Explain the difference between apply() and map() in Pandas.\n",
        "    - Key Difference:\n",
        "       - apply() works on both DataFrames and Series, while map() works\n",
        "         only on Series.\n",
        "       - apply() is more flexible for complex functions; map() is simpler\n",
        "         for element-wise operations.\n",
        "\n",
        "18. What are some advanced features of NumPy?\n",
        "    - NumPy offers several advanced features that enhance its capabilities\n",
        "      for scientific computing and data manipulation. Key advanced features include:\n",
        "\n",
        "       - Broadcasting: Enables arithmetic operations between arrays of\n",
        "         different shapes, simplifying complex calculations without explicit loops.\n",
        "\n",
        "       - Vectorization: Performs fast, element-wise operations on entire\n",
        "         arrays using optimized C-level code, improving performance.\n",
        "\n",
        "       - Masked Arrays: Allows handling missing or invalid data by masking\n",
        "         specific elements.\n",
        "\n",
        "       - Structured Arrays: Supports heterogeneous data types, enabling\n",
        "         complex data structures similar to SQL tables.\n",
        "\n",
        "       - Advanced Indexing: Offers powerful techniques like boolean\n",
        "         indexing, fancy indexing, and slicing for precise data selection.\n",
        "\n",
        "       - Universal Functions (ufuncs): Efficient functions that operate on\n",
        "         entire arrays, such as np.sin(), np.exp(), and np.add().\n",
        "\n",
        "       - Memory Efficiency: NumPy stores data in contiguous memory blocks,\n",
        "         reducing overhead and enhancing performance.\n",
        "\n",
        "       - Linear Algebra Support: Provides powerful functions for matrix\n",
        "         operations, eigenvalues, determinants, and inverses via np.linalg.\n",
        "\n",
        "       -  Fast Fourier Transform (FFT): Efficiently computes FFT for\n",
        "          signal processing tasks.\n",
        "\n",
        "       - Random Module: Generates random numbers, distributions, and\n",
        "         performs sampling for simulations and statistical analysis.\n",
        "\n",
        "19. How does Pandas simplify time series analysis?\n",
        "    - Pandas simplifies time series analysis by providing built-in tools\n",
        "      for handling date and time data efficiently. It supports:\n",
        "\n",
        "        - Datetime Indexing: Uses DatetimeIndex for easy time-based\n",
        "          indexing and slicing.\n",
        "        - Resampling: Aggregates data at different time intervals using .\n",
        "          resample().\n",
        "        - Shifting & Lagging: Moves data forward or backward in time\n",
        "          with . shift().\n",
        "        - Rolling Windows: Applies moving averages or other functions over\n",
        "          time windows using .rolling().\n",
        "        - Handling Missing Dates: Fills or interpolates missing time-based\n",
        "          data.\n",
        "        - Date Parsing & Conversion: Converts strings to datetime format\n",
        "          with pd.to_datetime().\n",
        "        - Time Zone Handling: Supports timezone conversions using .\n",
        "          tz_localize() and .tz_convert().\n",
        "\n",
        "20. What is the role of a Pivot table in Pandas?\n",
        "    - A Pivot Table in Pandas is used for summarizing and analyzing data\n",
        "      by grouping, aggregating, and reshaping it in a structured format. It helps in extracting meaningful insights from large datasets.\n",
        "\n",
        "      Key Roles of Pivot Tables in Pandas:\n",
        "        - Data Summarization: Aggregates data using functions like sum(),\n",
        "          mean(), count(), etc.\n",
        "        - Reshaping Data: Converts long-format data into a more readable\n",
        "          table.\n",
        "        - Multi-Level Grouping: Allows grouping by multiple categories\n",
        "          (multi-indexing).\n",
        "        - Handling Missing Data: Automatically fills missing values with\n",
        "          fill_value.\n",
        "        - Quick Data Analysis: Helps in generating business reports,\n",
        "          financial summaries, and statistical insights.\n",
        "\n",
        "21. Why is NumPy's array slicing is faster than Python's list slicing?\n",
        "    - NumPy's array slicing is faster than Python's list slicing due to\n",
        "      several key factors:\n",
        "\n",
        "        - Memory Efficiency: NumPy arrays are stored in contiguous memory\n",
        "          blocks, allowing faster access and reduced overhead during slicing operations. Python lists, however, are collections of pointers to objects, adding extra overhead.\n",
        "\n",
        "        - View-Based Slicing: NumPy slicing creates a view of the original\n",
        "          data rather than copying it. This means changes to the sliced data reflect in the original array, making it more memory-efficient and faster. Python list slicing, in contrast, creates a new copy of the data.\n",
        "\n",
        "        - Optimized C Implementation: NumPy is implemented in C, enabling\n",
        "          low-level optimizations and faster execution for array operations compared to Python’s interpreted list operations.\n",
        "\n",
        "        - Data Type Consistency: NumPy arrays are homogeneous (all\n",
        "          elements are of the same type), allowing efficient computation, while Python lists can store mixed data types, requiring additional checks during slicing.\n",
        "\n",
        "22. What are some common use cases for Seaborn?\n",
        "    - Seaborn is widely used for statistical data visualization in Python.\n",
        "      Some common use cases include:\n",
        "\n",
        "        - Exploratory Data Analysis (EDA): Helps visualize distributions,\n",
        "          relationships, and trends in data.\n",
        "        - orrelation Analysis: Uses heatmaps to identify relationships\n",
        "          between variables.\n",
        "        - Categorical Data Visualization: Provides bar plots, box plots,\n",
        "          and violin plots to analyze categorical data.\n",
        "        - Distribution Analysis: Uses histograms, KDE plots, and rug plots\n",
        "          to examine data distributions.\n",
        "        - Regression Analysis: Creates regression plots to show trends and\n",
        "          relationships.\n",
        "        - Time Series Visualization: Helps plot trends over time using\n",
        "          line plots.\n",
        "        - Multi-Variable Comparisons: Uses pair plots and facet grids for\n",
        "          high-dimensional data visualization.\n",
        "        - Customizing Matplotlib Plots: Enhances Matplotlib visuals with\n",
        "          better aesthetics and themes.\n",
        "\n",
        "\n",
        "\n",
        "\n",
        "\n",
        "\n",
        "\n",
        "\n",
        "\n",
        "\n",
        "\n",
        "\n",
        "\n",
        "\n",
        "\n",
        "\n"
      ],
      "metadata": {
        "id": "T-UxQAI2zJ00"
      }
    },
    {
      "cell_type": "markdown",
      "source": [
        "# **Practical Questions**\n",
        "\n",
        "1. How do you create a 2D NumPy array and calculate the sum of each row?\n",
        "    - We can create a 2D NumPy array using the numpy.array() function and\n",
        "      then calculate the sum of each row using the .sum(axis=1) method. Here's an example:"
      ],
      "metadata": {
        "id": "S1_AqZMBHsP8"
      }
    },
    {
      "cell_type": "code",
      "source": [
        "import numpy as np\n",
        "\n",
        "# Creating a 2D NumPy array\n",
        "array_2d = np.array([[1, 2, 3],\n",
        "                      [4, 5, 6],\n",
        "                      [7, 8, 9]])\n",
        "\n",
        "# Calculating the sum of each row\n",
        "row_sums = array_2d.sum(axis=1)\n",
        "\n",
        "print(\"2D Array:\")\n",
        "print(array_2d)\n",
        "print(\"Sum of each row:\", row_sums)\n"
      ],
      "metadata": {
        "colab": {
          "base_uri": "https://localhost:8080/"
        },
        "id": "zo7vkbNDRQ1S",
        "outputId": "6beed269-488f-49cd-c0ea-35c538eb9b6e"
      },
      "execution_count": 1,
      "outputs": [
        {
          "output_type": "stream",
          "name": "stdout",
          "text": [
            "2D Array:\n",
            "[[1 2 3]\n",
            " [4 5 6]\n",
            " [7 8 9]]\n",
            "Sum of each row: [ 6 15 24]\n"
          ]
        }
      ]
    },
    {
      "cell_type": "markdown",
      "source": [
        "2. Write a Pandas script to find the mean of a specific column in a\n",
        "   DataFrame.\n",
        "    - We can use the Pandas library to calculate the mean of a specific\n",
        "      column in a DataFrame. Here’s a simple script to do that:"
      ],
      "metadata": {
        "id": "ZMHu79tvRd-x"
      }
    },
    {
      "cell_type": "code",
      "source": [
        "import pandas as pd\n",
        "\n",
        "# Creating a sample DataFrame\n",
        "data = {\n",
        "    'Name': ['Alice', 'Bob', 'Charlie', 'David'],\n",
        "    'Age': [25, 30, 35, 40],\n",
        "    'Salary': [50000, 60000, 70000, 80000]\n",
        "}\n",
        "\n",
        "df = pd.DataFrame(data)\n",
        "\n",
        "# Calculating the mean of the 'Salary' column\n",
        "mean_salary = df['Salary'].mean()\n",
        "\n",
        "print(\"Mean Salary:\", mean_salary)\n"
      ],
      "metadata": {
        "colab": {
          "base_uri": "https://localhost:8080/"
        },
        "id": "__I8JfbaSRGv",
        "outputId": "20d777f3-ab82-4177-8ea2-b5a31e50bc49"
      },
      "execution_count": 2,
      "outputs": [
        {
          "output_type": "stream",
          "name": "stdout",
          "text": [
            "Mean Salary: 65000.0\n"
          ]
        }
      ]
    },
    {
      "cell_type": "markdown",
      "source": [
        "3. Create a scatter plot usinf Matplotlib.\n",
        "   - We can use the matplotlib library to create a scatter plot. Here’s\n",
        "     an example:"
      ],
      "metadata": {
        "id": "FUN4C7hDSUnM"
      }
    },
    {
      "cell_type": "code",
      "source": [
        "import matplotlib.pyplot as plt\n",
        "\n",
        "# Sample data\n",
        "x = [10, 20, 30, 40, 50]\n",
        "y = [5, 15, 25, 35, 45]\n",
        "\n",
        "# Creating a scatter plot\n",
        "plt.scatter(x, y, color='blue', marker='o')\n",
        "\n",
        "# Adding labels and title\n",
        "plt.xlabel(\"X-axis\")\n",
        "plt.ylabel(\"Y-axis\")\n",
        "plt.title(\"Simple Scatter Plot\")\n",
        "\n",
        "# Display the plot\n",
        "plt.show()\n"
      ],
      "metadata": {
        "colab": {
          "base_uri": "https://localhost:8080/",
          "height": 472
        },
        "id": "ljbBCMLQTFqD",
        "outputId": "a7296e65-84b6-436f-8e98-fec90d366273"
      },
      "execution_count": 3,
      "outputs": [
        {
          "output_type": "display_data",
          "data": {
            "text/plain": [
              "<Figure size 640x480 with 1 Axes>"
            ],
            "image/png": "[encoded data removed]"
          },
          "metadata": {}
        }
      ]
    },
    {
      "cell_type": "markdown",
      "source": [
        "4. How do you calculate the correlation matrix using Seaborn and visualise\n",
        "   it with a heatmap?\n",
        "    - We can calculate the correlation matrix using Pandas and visualize\n",
        "      it using Seaborn's heatmap."
      ],
      "metadata": {
        "id": "BFzobOZ4TJCY"
      }
    },
    {
      "cell_type": "code",
      "source": [
        "import pandas as pd\n",
        "import seaborn as sns\n",
        "import matplotlib.pyplot as plt\n",
        "\n",
        "# Sample DataFrame\n",
        "data = {\n",
        "    'A': [1, 2, 3, 4, 5],\n",
        "    'B': [2, 4, 6, 8, 10],\n",
        "    'C': [5, 3, 6, 7, 2],\n",
        "    'D': [8, 6, 4, 2, 0]\n",
        "}\n",
        "\n",
        "df = pd.DataFrame(data)\n",
        "\n",
        "# Calculating the correlation matrix\n",
        "corr_matrix = df.corr()\n",
        "\n",
        "# Creating a heatmap\n",
        "plt.figure(figsize=(6, 4))\n",
        "sns.heatmap(corr_matrix, annot=True, cmap='coolwarm', fmt=\".2f\", linewidths=0.5)\n",
        "\n",
        "# Adding a title\n",
        "plt.title(\"Correlation Matrix Heatmap\")\n",
        "\n",
        "# Display the plot\n",
        "plt.show()\n"
      ],
      "metadata": {
        "colab": {
          "base_uri": "https://localhost:8080/",
          "height": 391
        },
        "id": "_yoQtuxGUB7_",
        "outputId": "e15a086e-940b-4271-a4c5-c6ffebe6a1a7"
      },
      "execution_count": 4,
      "outputs": [
        {
          "output_type": "display_data",
          "data": {
            "text/plain": [
              "<Figure size 600x400 with 2 Axes>"
            ],
            "image/png": "[encoded data removed]"
          },
          "metadata": {}
        }
      ]
    },
    {
      "cell_type": "markdown",
      "source": [
        "5. Generate a bar plot using Plotly.\n",
        "   - We can use the plotly.express module to generate an interactive bar\n",
        "     plot."
      ],
      "metadata": {
        "id": "wUxWhWbyZ4Eq"
      }
    },
    {
      "cell_type": "code",
      "source": [
        "import plotly.express as px\n",
        "\n",
        "# Sample data\n",
        "data = {\n",
        "    \"Category\": [\"A\", \"B\", \"C\", \"D\", \"E\"],\n",
        "    \"Values\": [10, 20, 15, 25, 30]\n",
        "}\n",
        "\n",
        "# Creating a bar plot\n",
        "fig = px.bar(data, x=\"Category\", y=\"Values\", title=\"Bar Plot using Plotly\",\n",
        "             labels={\"Values\": \"Value Count\", \"Category\": \"Categories\"},\n",
        "             color=\"Category\")  # Adds color based on category\n",
        "\n",
        "# Display the plot\n",
        "fig.show()\n"
      ],
      "metadata": {
        "colab": {
          "base_uri": "https://localhost:8080/",
          "height": 542
        },
        "id": "S6WNb4wWadmc",
        "outputId": "691f05b4-434d-40a8-8b6f-80cb5e1b5987"
      },
      "execution_count": 5,
      "outputs": [
        {
          "output_type": "display_data",
          "data": {
            "text/html": [
              "<html>\n",
              "<head><meta charset=\"utf-8\" /></head>\n",
              "<body>\n",
              "    <div>            <script src=\"https://cdnjs.cloudflare.com/ajax/libs/mathjax/2.7.5/MathJax.js?config=TeX-AMS-MML_SVG\"></script><script type=\"text/javascript\">if (window.MathJax && window.MathJax.Hub && window.MathJax.Hub.Config) {window.MathJax.Hub.Config({SVG: {font: \"STIX-Web\"}});}</script>                <script type=\"text/javascript\">window.PlotlyConfig = {MathJaxConfig: 'local'};</script>\n",
              "        <script charset=\"utf-8\" src=\"https://cdn.plot.ly/plotly-2.35.2.min.js\"></script>                <div id=\"7b19448f-20d0-4318-aa6a-6ffb1baf7adb\" class=\"plotly-graph-div\" style=\"height:525px; width:100%;\"></div>            <script type=\"text/javascript\">                                    window.PLOTLYENV=window.PLOTLYENV || {};                                    if (document.getElementById(\"7b19448f-20d0-4318-aa6a-6ffb1baf7adb\")) {                    Plotly.newPlot(                        \"7b19448f-20d0-4318-aa6a-6ffb1baf7adb\",                        [{\"alignmentgroup\":\"True\",\"hovertemplate\":\"Categories=%{x}\\u003cbr\\u003eValue Count=%{y}\\u003cextra\\u003e\\u003c\\u002fextra\\u003e\",\"legendgroup\":\"A\",\"marker\":{\"color\":\"#636efa\",\"pattern\":{\"shape\":\"\"}},\"name\":\"A\",\"offsetgroup\":\"A\",\"orientation\":\"v\",\"showlegend\":true,\"textposition\":\"auto\",\"x\":[\"A\"],\"xaxis\":\"x\",\"y\":[10],\"yaxis\":\"y\",\"type\":\"bar\"},{\"alignmentgroup\":\"True\",\"hovertemplate\":\"Categories=%{x}\\u003cbr\\u003eValue Count=%{y}\\u003cextra\\u003e\\u003c\\u002fextra\\u003e\",\"legendgroup\":\"B\",\"marker\":{\"color\":\"#EF553B\",\"pattern\":{\"shape\":\"\"}},\"name\":\"B\",\"offsetgroup\":\"B\",\"orientation\":\"v\",\"showlegend\":true,\"textposition\":\"auto\",\"x\":[\"B\"],\"xaxis\":\"x\",\"y\":[20],\"yaxis\":\"y\",\"type\":\"bar\"},{\"alignmentgroup\":\"True\",\"hovertemplate\":\"Categories=%{x}\\u003cbr\\u003eValue Count=%{y}\\u003cextra\\u003e\\u003c\\u002fextra\\u003e\",\"legendgroup\":\"C\",\"marker\":{\"color\":\"#00cc96\",\"pattern\":{\"shape\":\"\"}},\"name\":\"C\",\"offsetgroup\":\"C\",\"orientation\":\"v\",\"showlegend\":true,\"textposition\":\"auto\",\"x\":[\"C\"],\"xaxis\":\"x\",\"y\":[15],\"yaxis\":\"y\",\"type\":\"bar\"},{\"alignmentgroup\":\"True\",\"hovertemplate\":\"Categories=%{x}\\u003cbr\\u003eValue Count=%{y}\\u003cextra\\u003e\\u003c\\u002fextra\\u003e\",\"legendgroup\":\"D\",\"marker\":{\"color\":\"#ab63fa\",\"pattern\":{\"shape\":\"\"}},\"name\":\"D\",\"offsetgroup\":\"D\",\"orientation\":\"v\",\"showlegend\":true,\"textposition\":\"auto\",\"x\":[\"D\"],\"xaxis\":\"x\",\"y\":[25],\"yaxis\":\"y\",\"type\":\"bar\"},{\"alignmentgroup\":\"True\",\"hovertemplate\":\"Categories=%{x}\\u003cbr\\u003eValue Count=%{y}\\u003cextra\\u003e\\u003c\\u002fextra\\u003e\",\"legendgroup\":\"E\",\"marker\":{\"color\":\"#FFA15A\",\"pattern\":{\"shape\":\"\"}},\"name\":\"E\",\"offsetgroup\":\"E\",\"orientation\":\"v\",\"showlegend\":true,\"textposition\":\"auto\",\"x\":[\"E\"],\"xaxis\":\"x\",\"y\":[30],\"yaxis\":\"y\",\"type\":\"bar\"}],                        {\"template\":{\"data\":{\"histogram2dcontour\":[{\"type\":\"histogram2dcontour\",\"colorbar\":{\"outlinewidth\":0,\"ticks\":\"\"},\"colorscale\":[[0.0,\"#0d0887\"],[0.1111111111111111,\"#46039f\"],[0.2222222222222222,\"#7201a8\"],[0.3333333333333333,\"#9c179e\"],[0.4444444444444444,\"#bd3786\"],[0.5555555555555556,\"#d8576b\"],[0.6666666666666666,\"#ed7953\"],[0.7777777777777778,\"#fb9f3a\"],[0.8888888888888888,\"#fdca26\"],[1.0,\"#f0f921\"]]}],\"choropleth\":[{\"type\":\"choropleth\",\"colorbar\":{\"outlinewidth\":0,\"ticks\":\"\"}}],\"histogram2d\":[{\"type\":\"histogram2d\",\"colorbar\":{\"outlinewidth\":0,\"ticks\":\"\"},\"colorscale\":[[0.0,\"#0d0887\"],[0.1111111111111111,\"#46039f\"],[0.2222222222222222,\"#7201a8\"],[0.3333333333333333,\"#9c179e\"],[0.4444444444444444,\"#bd3786\"],[0.5555555555555556,\"#d8576b\"],[0.6666666666666666,\"#ed7953\"],[0.7777777777777778,\"#fb9f3a\"],[0.8888888888888888,\"#fdca26\"],[1.0,\"#f0f921\"]]}],\"heatmap\":[{\"type\":\"heatmap\",\"colorbar\":{\"outlinewidth\":0,\"ticks\":\"\"},\"colorscale\":[[0.0,\"#0d0887\"],[0.1111111111111111,\"#46039f\"],[0.2222222222222222,\"#7201a8\"],[0.3333333333333333,\"#9c179e\"],[0.4444444444444444,\"#bd3786\"],[0.5555555555555556,\"#d8576b\"],[0.6666666666666666,\"#ed7953\"],[0.7777777777777778,\"#fb9f3a\"],[0.8888888888888888,\"#fdca26\"],[1.0,\"#f0f921\"]]}],\"heatmapgl\":[{\"type\":\"heatmapgl\",\"colorbar\":{\"outlinewidth\":0,\"ticks\":\"\"},\"colorscale\":[[0.0,\"#0d0887\"],[0.1111111111111111,\"#46039f\"],[0.2222222222222222,\"#7201a8\"],[0.3333333333333333,\"#9c179e\"],[0.4444444444444444,\"#bd3786\"],[0.5555555555555556,\"#d8576b\"],[0.6666666666666666,\"#ed7953\"],[0.7777777777777778,\"#fb9f3a\"],[0.8888888888888888,\"#fdca26\"],[1.0,\"#f0f921\"]]}],\"contourcarpet\":[{\"type\":\"contourcarpet\",\"colorbar\":{\"outlinewidth\":0,\"ticks\":\"\"}}],\"contour\":[{\"type\":\"contour\",\"colorbar\":{\"outlinewidth\":0,\"ticks\":\"\"},\"colorscale\":[[0.0,\"#0d0887\"],[0.1111111111111111,\"#46039f\"],[0.2222222222222222,\"#7201a8\"],[0.3333333333333333,\"#9c179e\"],[0.4444444444444444,\"#bd3786\"],[0.5555555555555556,\"#d8576b\"],[0.6666666666666666,\"#ed7953\"],[0.7777777777777778,\"#fb9f3a\"],[0.8888888888888888,\"#fdca26\"],[1.0,\"#f0f921\"]]}],\"surface\":[{\"type\":\"surface\",\"colorbar\":{\"outlinewidth\":0,\"ticks\":\"\"},\"colorscale\":[[0.0,\"#0d0887\"],[0.1111111111111111,\"#46039f\"],[0.2222222222222222,\"#7201a8\"],[0.3333333333333333,\"#9c179e\"],[0.4444444444444444,\"#bd3786\"],[0.5555555555555556,\"#d8576b\"],[0.6666666666666666,\"#ed7953\"],[0.7777777777777778,\"#fb9f3a\"],[0.8888888888888888,\"#fdca26\"],[1.0,\"#f0f921\"]]}],\"mesh3d\":[{\"type\":\"mesh3d\",\"colorbar\":{\"outlinewidth\":0,\"ticks\":\"\"}}],\"scatter\":[{\"fillpattern\":{\"fillmode\":\"overlay\",\"size\":10,\"solidity\":0.2},\"type\":\"scatter\"}],\"parcoords\":[{\"type\":\"parcoords\",\"line\":{\"colorbar\":{\"outlinewidth\":0,\"ticks\":\"\"}}}],\"scatterpolargl\":[{\"type\":\"scatterpolargl\",\"marker\":{\"colorbar\":{\"outlinewidth\":0,\"ticks\":\"\"}}}],\"bar\":[{\"error_x\":{\"color\":\"#2a3f5f\"},\"error_y\":{\"color\":\"#2a3f5f\"},\"marker\":{\"line\":{\"color\":\"#E5ECF6\",\"width\":0.5},\"pattern\":{\"fillmode\":\"overlay\",\"size\":10,\"solidity\":0.2}},\"type\":\"bar\"}],\"scattergeo\":[{\"type\":\"scattergeo\",\"marker\":{\"colorbar\":{\"outlinewidth\":0,\"ticks\":\"\"}}}],\"scatterpolar\":[{\"type\":\"scatterpolar\",\"marker\":{\"colorbar\":{\"outlinewidth\":0,\"ticks\":\"\"}}}],\"histogram\":[{\"marker\":{\"pattern\":{\"fillmode\":\"overlay\",\"size\":10,\"solidity\":0.2}},\"type\":\"histogram\"}],\"scattergl\":[{\"type\":\"scattergl\",\"marker\":{\"colorbar\":{\"outlinewidth\":0,\"ticks\":\"\"}}}],\"scatter3d\":[{\"type\":\"scatter3d\",\"line\":{\"colorbar\":{\"outlinewidth\":0,\"ticks\":\"\"}},\"marker\":{\"colorbar\":{\"outlinewidth\":0,\"ticks\":\"\"}}}],\"scattermapbox\":[{\"type\":\"scattermapbox\",\"marker\":{\"colorbar\":{\"outlinewidth\":0,\"ticks\":\"\"}}}],\"scatterternary\":[{\"type\":\"scatterternary\",\"marker\":{\"colorbar\":{\"outlinewidth\":0,\"ticks\":\"\"}}}],\"scattercarpet\":[{\"type\":\"scattercarpet\",\"marker\":{\"colorbar\":{\"outlinewidth\":0,\"ticks\":\"\"}}}],\"carpet\":[{\"aaxis\":{\"endlinecolor\":\"#2a3f5f\",\"gridcolor\":\"white\",\"linecolor\":\"white\",\"minorgridcolor\":\"white\",\"startlinecolor\":\"#2a3f5f\"},\"baxis\":{\"endlinecolor\":\"#2a3f5f\",\"gridcolor\":\"white\",\"linecolor\":\"white\",\"minorgridcolor\":\"white\",\"startlinecolor\":\"#2a3f5f\"},\"type\":\"carpet\"}],\"table\":[{\"cells\":{\"fill\":{\"color\":\"#EBF0F8\"},\"line\":{\"color\":\"white\"}},\"header\":{\"fill\":{\"color\":\"#C8D4E3\"},\"line\":{\"color\":\"white\"}},\"type\":\"table\"}],\"barpolar\":[{\"marker\":{\"line\":{\"color\":\"#E5ECF6\",\"width\":0.5},\"pattern\":{\"fillmode\":\"overlay\",\"size\":10,\"solidity\":0.2}},\"type\":\"barpolar\"}],\"pie\":[{\"automargin\":true,\"type\":\"pie\"}]},\"layout\":{\"autotypenumbers\":\"strict\",\"colorway\":[\"#636efa\",\"#EF553B\",\"#00cc96\",\"#ab63fa\",\"#FFA15A\",\"#19d3f3\",\"#FF6692\",\"#B6E880\",\"#FF97FF\",\"#FECB52\"],\"font\":{\"color\":\"#2a3f5f\"},\"hovermode\":\"closest\",\"hoverlabel\":{\"align\":\"left\"},\"paper_bgcolor\":\"white\",\"plot_bgcolor\":\"#E5ECF6\",\"polar\":{\"bgcolor\":\"#E5ECF6\",\"angularaxis\":{\"gridcolor\":\"white\",\"linecolor\":\"white\",\"ticks\":\"\"},\"radialaxis\":{\"gridcolor\":\"white\",\"linecolor\":\"white\",\"ticks\":\"\"}},\"ternary\":{\"bgcolor\":\"#E5ECF6\",\"aaxis\":{\"gridcolor\":\"white\",\"linecolor\":\"white\",\"ticks\":\"\"},\"baxis\":{\"gridcolor\":\"white\",\"linecolor\":\"white\",\"ticks\":\"\"},\"caxis\":{\"gridcolor\":\"white\",\"linecolor\":\"white\",\"ticks\":\"\"}},\"coloraxis\":{\"colorbar\":{\"outlinewidth\":0,\"ticks\":\"\"}},\"colorscale\":{\"sequential\":[[0.0,\"#0d0887\"],[0.1111111111111111,\"#46039f\"],[0.2222222222222222,\"#7201a8\"],[0.3333333333333333,\"#9c179e\"],[0.4444444444444444,\"#bd3786\"],[0.5555555555555556,\"#d8576b\"],[0.6666666666666666,\"#ed7953\"],[0.7777777777777778,\"#fb9f3a\"],[0.8888888888888888,\"#fdca26\"],[1.0,\"#f0f921\"]],\"sequentialminus\":[[0.0,\"#0d0887\"],[0.1111111111111111,\"#46039f\"],[0.2222222222222222,\"#7201a8\"],[0.3333333333333333,\"#9c179e\"],[0.4444444444444444,\"#bd3786\"],[0.5555555555555556,\"#d8576b\"],[0.6666666666666666,\"#ed7953\"],[0.7777777777777778,\"#fb9f3a\"],[0.8888888888888888,\"#fdca26\"],[1.0,\"#f0f921\"]],\"diverging\":[[0,\"#8e0152\"],[0.1,\"#c51b7d\"],[0.2,\"#de77ae\"],[0.3,\"#f1b6da\"],[0.4,\"#fde0ef\"],[0.5,\"#f7f7f7\"],[0.6,\"#e6f5d0\"],[0.7,\"#b8e186\"],[0.8,\"#7fbc41\"],[0.9,\"#4d9221\"],[1,\"#276419\"]]},\"xaxis\":{\"gridcolor\":\"white\",\"linecolor\":\"white\",\"ticks\":\"\",\"title\":{\"standoff\":15},\"zerolinecolor\":\"white\",\"automargin\":true,\"zerolinewidth\":2},\"yaxis\":{\"gridcolor\":\"white\",\"linecolor\":\"white\",\"ticks\":\"\",\"title\":{\"standoff\":15},\"zerolinecolor\":\"white\",\"automargin\":true,\"zerolinewidth\":2},\"scene\":{\"xaxis\":{\"backgroundcolor\":\"#E5ECF6\",\"gridcolor\":\"white\",\"linecolor\":\"white\",\"showbackground\":true,\"ticks\":\"\",\"zerolinecolor\":\"white\",\"gridwidth\":2},\"yaxis\":{\"backgroundcolor\":\"#E5ECF6\",\"gridcolor\":\"white\",\"linecolor\":\"white\",\"showbackground\":true,\"ticks\":\"\",\"zerolinecolor\":\"white\",\"gridwidth\":2},\"zaxis\":{\"backgroundcolor\":\"#E5ECF6\",\"gridcolor\":\"white\",\"linecolor\":\"white\",\"showbackground\":true,\"ticks\":\"\",\"zerolinecolor\":\"white\",\"gridwidth\":2}},\"shapedefaults\":{\"line\":{\"color\":\"#2a3f5f\"}},\"annotationdefaults\":{\"arrowcolor\":\"#2a3f5f\",\"arrowhead\":0,\"arrowwidth\":1},\"geo\":{\"bgcolor\":\"white\",\"landcolor\":\"#E5ECF6\",\"subunitcolor\":\"white\",\"showland\":true,\"showlakes\":true,\"lakecolor\":\"white\"},\"title\":{\"x\":0.05},\"mapbox\":{\"style\":\"light\"}}},\"xaxis\":{\"anchor\":\"y\",\"domain\":[0.0,1.0],\"title\":{\"text\":\"Categories\"},\"categoryorder\":\"array\",\"categoryarray\":[\"A\",\"B\",\"C\",\"D\",\"E\"]},\"yaxis\":{\"anchor\":\"x\",\"domain\":[0.0,1.0],\"title\":{\"text\":\"Value Count\"}},\"legend\":{\"title\":{\"text\":\"Categories\"},\"tracegroupgap\":0},\"title\":{\"text\":\"Bar Plot using Plotly\"},\"barmode\":\"relative\"},                        {\"responsive\": true}                    ).then(function(){\n",
              "                            \n",
              "var gd = document.getElementById('7b19448f-20d0-4318-aa6a-6ffb1baf7adb');\n",
              "var x = new MutationObserver(function (mutations, observer) {{\n",
              "        var display = window.getComputedStyle(gd).display;\n",
              "        if (!display || display === 'none') {{\n",
              "            console.log([gd, 'removed!']);\n",
              "            Plotly.purge(gd);\n",
              "            observer.disconnect();\n",
              "        }}\n",
              "}});\n",
              "\n",
              "// Listen for the removal of the full notebook cells\n",
              "var notebookContainer = gd.closest('#notebook-container');\n",
              "if (notebookContainer) {{\n",
              "    x.observe(notebookContainer, {childList: true});\n",
              "}}\n",
              "\n",
              "// Listen for the clearing of the current output cell\n",
              "var outputEl = gd.closest('.output');\n",
              "if (outputEl) {{\n",
              "    x.observe(outputEl, {childList: true});\n",
              "}}\n",
              "\n",
              "                        })                };                            </script>        </div>\n",
              "</body>\n",
              "</html>"
            ]
          },
          "metadata": {}
        }
      ]
    },
    {
      "cell_type": "markdown",
      "source": [
        "6. Create a DataFrame and add a new column based on an existing column.\n",
        "   - We can create a Pandas DataFrame and add a new column based on an\n",
        "     existing column using the apply() function or direct assignment."
      ],
      "metadata": {
        "id": "sfuWui_9aptI"
      }
    },
    {
      "cell_type": "code",
      "source": [
        "import pandas as pd\n",
        "\n",
        "# Creating a sample DataFrame\n",
        "data = {\n",
        "    'Name': ['Alice', 'Bob', 'Charlie', 'David'],\n",
        "    'Age': [25, 30, 35, 40]\n",
        "}\n",
        "\n",
        "df = pd.DataFrame(data)\n",
        "\n",
        "# Adding a new column 'Category' based on 'Age'\n",
        "df['Category'] = df['Age'].apply(lambda x: 'Young' if x < 30 else 'Adult')\n",
        "\n",
        "# Displaying the DataFrame\n",
        "print(df)\n"
      ],
      "metadata": {
        "colab": {
          "base_uri": "https://localhost:8080/"
        },
        "id": "bTa7xI5kbNln",
        "outputId": "3cf249f1-09a4-480f-839a-0b18ac81b85e"
      },
      "execution_count": 6,
      "outputs": [
        {
          "output_type": "stream",
          "name": "stdout",
          "text": [
            "      Name  Age Category\n",
            "0    Alice   25    Young\n",
            "1      Bob   30    Adult\n",
            "2  Charlie   35    Adult\n",
            "3    David   40    Adult\n"
          ]
        }
      ]
    },
    {
      "cell_type": "markdown",
      "source": [
        "7. Write a program to perform element-wise multiplication of two NumPy\n",
        "   arrays.\n",
        "    - We can perform element-wise multiplication of two NumPy arrays using\n",
        "      the * operator or numpy.multiply() function."
      ],
      "metadata": {
        "id": "lViP4QGcbU9v"
      }
    },
    {
      "cell_type": "code",
      "source": [
        "import numpy as np\n",
        "\n",
        "# Creating two NumPy arrays\n",
        "array1 = np.array([1, 2, 3, 4, 5])\n",
        "array2 = np.array([10, 20, 30, 40, 50])\n",
        "\n",
        "# Element-wise multiplication using *\n",
        "result = array1 * array2\n",
        "\n",
        "# Alternatively, using np.multiply()\n",
        "# result = np.multiply(array1, array2)\n",
        "\n",
        "print(\"Array 1:\", array1)\n",
        "print(\"Array 2:\", array2)\n",
        "print(\"Element-wise Multiplication Result:\", result)\n"
      ],
      "metadata": {
        "colab": {
          "base_uri": "https://localhost:8080/"
        },
        "id": "Rrr050ChcBiL",
        "outputId": "9fa5c531-2f52-49b6-c897-8479bbe4b1a2"
      },
      "execution_count": 7,
      "outputs": [
        {
          "output_type": "stream",
          "name": "stdout",
          "text": [
            "Array 1: [1 2 3 4 5]\n",
            "Array 2: [10 20 30 40 50]\n",
            "Element-wise Multiplication Result: [ 10  40  90 160 250]\n"
          ]
        }
      ]
    },
    {
      "cell_type": "markdown",
      "source": [
        "8. Create a line plot with multiple lines using Matplotlib.\n",
        "    - We can create a line plot with multiple lines using Matplotlib by\n",
        "      plotting multiple datasets on the same axes."
      ],
      "metadata": {
        "id": "DZkntzGCcKRU"
      }
    },
    {
      "cell_type": "code",
      "source": [
        "import matplotlib.pyplot as plt\n",
        "\n",
        "# Sample data\n",
        "x = [1, 2, 3, 4, 5]\n",
        "y1 = [10, 20, 25, 30, 40]  # First line\n",
        "y2 = [5, 15, 20, 25, 35]   # Second line\n",
        "y3 = [2, 10, 18, 22, 28]   # Third line\n",
        "\n",
        "# Creating the plot\n",
        "plt.plot(x, y1, marker='o', linestyle='-', color='blue', label=\"Line 1\")\n",
        "plt.plot(x, y2, marker='s', linestyle='--', color='red', label=\"Line 2\")\n",
        "plt.plot(x, y3, marker='^', linestyle='-.', color='green', label=\"Line 3\")\n",
        "\n",
        "# Adding labels and title\n",
        "plt.xlabel(\"X-axis\")\n",
        "plt.ylabel(\"Y-axis\")\n",
        "plt.title(\"Line Plot with Multiple Lines\")\n",
        "\n",
        "# Displaying legend\n",
        "plt.legend()\n",
        "\n",
        "# Showing the plot\n",
        "plt.show()\n"
      ],
      "metadata": {
        "colab": {
          "base_uri": "https://localhost:8080/",
          "height": 472
        },
        "id": "7tcC7H7edHqh",
        "outputId": "180efee2-ad96-41ed-83b3-1ecc79448cae"
      },
      "execution_count": 8,
      "outputs": [
        {
          "output_type": "display_data",
          "data": {
            "text/plain": [
              "<Figure size 640x480 with 1 Axes>"
            ],
            "image/png": "[encoded data removed]"
          },
          "metadata": {}
        }
      ]
    },
    {
      "cell_type": "markdown",
      "source": [
        "9. Generate a Pandas DataFrame and filter rows where a column value is\n",
        "   greater than a threshold.\n",
        "    - We can create a Pandas DataFrame and filter rows based on a column\n",
        "      value using boolean indexing."
      ],
      "metadata": {
        "id": "9EuL-cXAdNHM"
      }
    },
    {
      "cell_type": "code",
      "source": [
        "import pandas as pd\n",
        "\n",
        "# Creating a sample DataFrame\n",
        "data = {\n",
        "    'Name': ['Alice', 'Bob', 'Charlie', 'David', 'Emma'],\n",
        "    'Age': [25, 30, 22, 40, 28],\n",
        "    'Salary': [50000, 60000, 45000, 80000, 55000]\n",
        "}\n",
        "\n",
        "df = pd.DataFrame(data)\n",
        "\n",
        "# Filtering rows where 'Salary' is greater than 50,000\n",
        "filtered_df = df[df['Salary'] > 50000]\n",
        "\n",
        "# Display the filtered DataFrame\n",
        "print(filtered_df)\n"
      ],
      "metadata": {
        "colab": {
          "base_uri": "https://localhost:8080/"
        },
        "id": "GNQFULnMd67D",
        "outputId": "47afd114-f3f7-4c5c-fa71-5518beb02276"
      },
      "execution_count": 9,
      "outputs": [
        {
          "output_type": "stream",
          "name": "stdout",
          "text": [
            "    Name  Age  Salary\n",
            "1    Bob   30   60000\n",
            "3  David   40   80000\n",
            "4   Emma   28   55000\n"
          ]
        }
      ]
    },
    {
      "cell_type": "markdown",
      "source": [
        "10. Create a histogram using Seaborn to visualise a distribution.\n",
        "      - We can use Seaborn to create a histogram to visualize the\n",
        "        distribution of data."
      ],
      "metadata": {
        "id": "dniZURmgeE9P"
      }
    },
    {
      "cell_type": "code",
      "source": [
        "import seaborn as sns\n",
        "import matplotlib.pyplot as plt\n",
        "import numpy as np\n",
        "\n",
        "# Generating random data\n",
        "data = np.random.randn(1000)  # 1000 random values from a normal distribution\n",
        "\n",
        "# Creating the histogram\n",
        "sns.histplot(data, bins=30, kde=True, color='blue')\n",
        "\n",
        "# Adding labels and title\n",
        "plt.xlabel(\"Value\")\n",
        "plt.ylabel(\"Frequency\")\n",
        "plt.title(\"Histogram of Data Distribution\")\n",
        "\n",
        "# Displaying the plot\n",
        "plt.show()\n"
      ],
      "metadata": {
        "colab": {
          "base_uri": "https://localhost:8080/",
          "height": 472
        },
        "id": "j8q8md1reox9",
        "outputId": "f1782578-8d79-4c62-a4fc-a59188508907"
      },
      "execution_count": 10,
      "outputs": [
        {
          "output_type": "display_data",
          "data": {
            "text/plain": [
              "<Figure size 640x480 with 1 Axes>"
            ],
            "image/png": "[encoded data removed]"
          },
          "metadata": {}
        }
      ]
    },
    {
      "cell_type": "markdown",
      "source": [
        "11. Perform matrix multiplication using NumPy.\n",
        "     - We can perform matrix multiplication in NumPy using the @ operator\n",
        "       or the numpy.dot() function."
      ],
      "metadata": {
        "id": "6PxgBNJyeyWt"
      }
    },
    {
      "cell_type": "code",
      "source": [
        "import numpy as np\n",
        "\n",
        "# Creating two matrices\n",
        "A = np.array([[1, 2, 3],\n",
        "              [4, 5, 6]])\n",
        "\n",
        "B = np.array([[7, 8],\n",
        "              [9, 10],\n",
        "              [11, 12]])\n",
        "\n",
        "# Performing matrix multiplication\n",
        "result = A @ B  # Using @ operator\n",
        "# result = np.dot(A, B)  # Alternative method\n",
        "\n",
        "# Displaying the result\n",
        "print(\"Matrix A:\\n\", A)\n",
        "print(\"Matrix B:\\n\", B)\n",
        "print(\"Matrix Multiplication Result:\\n\", result)\n"
      ],
      "metadata": {
        "colab": {
          "base_uri": "https://localhost:8080/"
        },
        "id": "qLl4nEZgfKPc",
        "outputId": "d463ddea-9bad-49fa-a231-7c7640682255"
      },
      "execution_count": 11,
      "outputs": [
        {
          "output_type": "stream",
          "name": "stdout",
          "text": [
            "Matrix A:\n",
            " [[1 2 3]\n",
            " [4 5 6]]\n",
            "Matrix B:\n",
            " [[ 7  8]\n",
            " [ 9 10]\n",
            " [11 12]]\n",
            "Matrix Multiplication Result:\n",
            " [[ 58  64]\n",
            " [139 154]]\n"
          ]
        }
      ]
    },
    {
      "cell_type": "markdown",
      "source": [
        "12. Use Pandas to load a CSV file and display its first 5 rows.\n",
        "     - We can use Pandas to load a CSV file and display its first five\n",
        "       rows using the .read_csv() and .head() methods"
      ],
      "metadata": {
        "id": "xJitOeDrfR7z"
      }
    },
    {
      "cell_type": "code",
      "source": [
        "import pandas as pd\n",
        "\n",
        "# Load the CSV file (replace 'data.csv' with your actual file path)\n",
        "df = pd.read_csv(\"data.csv\")\n",
        "\n",
        "# Display the first 5 rows\n",
        "print(df.head())\n"
      ],
      "metadata": {
        "id": "pCqRY7sBnsqX"
      },
      "execution_count": null,
      "outputs": []
    },
    {
      "cell_type": "markdown",
      "source": [
        "13. Create a 3D scatter plot using Plotly.\n",
        "     - We can create a 3D scatter plot using Plotly's scatter3d function."
      ],
      "metadata": {
        "id": "5ZtPJG2Ynthh"
      }
    },
    {
      "cell_type": "code",
      "source": [
        "import plotly.express as px\n",
        "import pandas as pd\n",
        "import numpy as np\n",
        "\n",
        "# Generating sample data\n",
        "np.random.seed(42)  # For reproducibility\n",
        "df = pd.DataFrame({\n",
        "    \"X\": np.random.randn(100),\n",
        "    \"Y\": np.random.randn(100),\n",
        "    \"Z\": np.random.randn(100),\n",
        "    \"Category\": np.random.choice([\"A\", \"B\", \"C\"], 100)  # Random categories\n",
        "})\n",
        "\n",
        "# Creating a 3D scatter plot\n",
        "fig = px.scatter_3d(df, x=\"X\", y=\"Y\", z=\"Z\", color=\"Category\",\n",
        "                     title=\"3D Scatter Plot using Plotly\",\n",
        "                     labels={\"X\": \"X-axis\", \"Y\": \"Y-axis\", \"Z\": \"Z-axis\"})\n",
        "\n",
        "# Display the plot\n",
        "fig.show()\n"
      ],
      "metadata": {
        "colab": {
          "base_uri": "https://localhost:8080/",
          "height": 542
        },
        "id": "NyhIYZJ0oHbq",
        "outputId": "b7c193d8-d879-4f07-8db9-0229544801d0"
      },
      "execution_count": 25,
      "outputs": [
        {
          "output_type": "display_data",
          "data": {
            "text/html": [
              "<html>\n",
              "<head><meta charset=\"utf-8\" /></head>\n",
              "<body>\n",
              "    <div>            <script src=\"https://cdnjs.cloudflare.com/ajax/libs/mathjax/2.7.5/MathJax.js?config=TeX-AMS-MML_SVG\"></script><script type=\"text/javascript\">if (window.MathJax && window.MathJax.Hub && window.MathJax.Hub.Config) {window.MathJax.Hub.Config({SVG: {font: \"STIX-Web\"}});}</script>                <script type=\"text/javascript\">window.PlotlyConfig = {MathJaxConfig: 'local'};</script>\n",
              "        <script charset=\"utf-8\" src=\"https://cdn.plot.ly/plotly-2.35.2.min.js\"></script>                <div id=\"6b7b6f7e-8710-4a8e-808e-9b31dba36d16\" class=\"plotly-graph-div\" style=\"height:525px; width:100%;\"></div>            <script type=\"text/javascript\">                                    window.PLOTLYENV=window.PLOTLYENV || {};                                    if (document.getElementById(\"6b7b6f7e-8710-4a8e-808e-9b31dba36d16\")) {                    Plotly.newPlot(                        \"6b7b6f7e-8710-4a8e-808e-9b31dba36d16\",                        [{\"hovertemplate\":\"Category=A\\u003cbr\\u003eX-axis=%{x}\\u003cbr\\u003eY-axis=%{y}\\u003cbr\\u003eZ-axis=%{z}\\u003cextra\\u003e\\u003c\\u002fextra\\u003e\",\"legendgroup\":\"A\",\"marker\":{\"color\":\"#636efa\",\"symbol\":\"circle\"},\"mode\":\"markers\",\"name\":\"A\",\"scene\":\"scene\",\"showlegend\":true,\"x\":[0.4967141530112327,0.6476885381006925,1.5230298564080254,-0.23413695694918055,-0.4694743859349521,0.24196227156603412,-1.913280244657798,-0.5622875292409727,0.3142473325952739,-1.4123037013352915,-0.22577630048653566,0.06752820468792384,-0.5443827245251827,-1.1509935774223028,-0.2916937497932768,-0.6017066122293969,1.8522781845089378,-1.0577109289559004,0.7384665799954104,0.1713682811899705,-0.3011036955892888,-0.7198442083947086,-0.4606387709597875,0.3436182895684614,0.324083969394795,-0.38508228041631654,0.33126343140356396,-0.18565897666381712,-0.07201012158033385,-0.6451197546051243,0.36139560550841393,-2.6197451040897444,0.08704706823817122,0.3571125715117464,1.477894044741516,-0.5182702182736474,0.9154021177020741,0.32875110965968446,0.5132674331133561,-0.7020530938773524,-0.3276621465977682,0.26105527217988933],\"y\":[-1.4153707420504142,-0.3427145165267695,-0.8022772692216189,0.4040508568145384,0.25755039072276437,0.06023020994102644,2.463242112485286,0.30154734233361247,-1.168678037619532,0.7519330326867741,-0.9093874547947389,1.4027943109360992,0.5868570938002703,-0.9905363251306883,-0.5034756541161992,-1.5506634310661327,0.06856297480602733,0.4735924306351816,0.22745993460412942,1.307142754282428,0.1846338585323042,0.7818228717773104,-1.236950710878082,0.5219415656168976,0.25049285034587654,0.3464482094969757,-1.1913034972026486,0.787084603742452,0.82206015999449,-0.7537361643574896,-0.8895144296255233,0.27669079933001905,0.01300189187790702,-0.8571575564162826,-1.0708924980611123,0.4824724152431853,0.47323762457354485,-0.07282891265687277,-1.5148472246858646,0.21409374413020396,-1.245738778711988,0.1537251059455279],\"z\":[0.3577873603482833,1.083051243175277,1.053802052034903,-0.9378250399151228,0.5150476863060479,0.9540017634932023,0.651391251305798,0.7589692204932674,-0.23681860674000887,0.08187413938632256,-1.867265192591748,0.6862601903745135,-0.47193186578943347,0.06428001909546277,0.6795977489346758,-0.7303666317171367,0.21645858958197486,-0.6516003476058171,-0.7925207384327007,-0.11473644146689901,0.8657551941701215,-0.3345012358409484,-0.4749453111609562,1.7654542402810969,-1.2608839543350452,0.9178619470547761,0.44381942814622843,-0.05952535606180008,1.6324113039316352,0.13074057728609134,1.4412732890661155,-0.9815086510479509,0.19905969557347003,0.6621306745210467,1.586016816145352,-1.237815498826849,-0.15178509503558332,0.5883172064845765,-0.6226995198205938,-0.5893647569442115,0.8496020970210246,0.30729952087660933],\"type\":\"scatter3d\"},{\"hovertemplate\":\"Category=B\\u003cbr\\u003eX-axis=%{x}\\u003cbr\\u003eY-axis=%{y}\\u003cbr\\u003eZ-axis=%{z}\\u003cextra\\u003e\\u003c\\u002fextra\\u003e\",\"legendgroup\":\"B\",\"marker\":{\"color\":\"#EF553B\",\"symbol\":\"circle\"},\"mode\":\"markers\",\"name\":\"B\",\"scene\":\"scene\",\"showlegend\":true,\"x\":[-0.13826430117118466,0.7674347291529088,-0.46572975357025687,1.465648768921554,-1.4247481862134568,0.11092258970986608,-1.2208436499710222,-1.3281860488984305,-0.6769220003059587,0.6116762888408679,0.9312801191161986,-0.3092123758512146,0.812525822394198,1.0035328978920242,0.36163602504763415,1.5380365664659692,1.5646436558140062,0.8219025043752238,-0.29900735046586746,-1.9875689146008928,-0.21967188783751193,-0.8084936028931876,-0.5297602037670388,-0.39210815313215763,0.00511345664246089],\"y\":[-0.42064532276535904,0.17457781283183896,-0.026513875449216878,0.7910319470430469,-1.4018510627922809,2.1904556258099785,1.5499344050175394,0.8135172173696698,-0.6800247215784908,0.23225369716100355,-0.7143514180263678,0.4738329209117875,0.9633761292443218,1.8967929826539474,-0.2453881160028705,-0.8158102849654383,0.3411519748166439,0.8271832490360238,1.4535340771573169,2.720169166589619,0.6256673477650062,-0.2234627853258509,-0.846793718068405,0.173180925851182,0.058208718445999896],\"z\":[0.5607845263682344,0.5137859509122088,1.135565640180599,2.3146585666735087,-1.6127158711896517,1.088950596967366,0.6339190223180112,-0.661786464768388,2.1221561970126332,1.0324652605511468,-0.48423407286625136,-0.7076694656187807,-0.2525681513931603,-1.4301413779606327,-0.44004448669698376,-1.4358621511794394,0.010233061019587049,0.46210347426327075,-0.6002168771587947,-0.3853135968617602,0.11351734525124804,2.1330333746562666,0.28099186773503265,0.35701548596504734,0.8128621188389601],\"type\":\"scatter3d\"},{\"hovertemplate\":\"Category=C\\u003cbr\\u003eX-axis=%{x}\\u003cbr\\u003eY-axis=%{y}\\u003cbr\\u003eZ-axis=%{z}\\u003cextra\\u003e\\u003c\\u002fextra\\u003e\",\"legendgroup\":\"C\",\"marker\":{\"color\":\"#00cc96\",\"symbol\":\"circle\"},\"mode\":\"markers\",\"name\":\"C\",\"scene\":\"scene\",\"showlegend\":true,\"x\":[-0.23415337472333597,1.5792128155073915,0.5425600435859647,-0.46341769281246226,-1.7249178325130328,-1.0128311203344238,-0.9080240755212109,0.37569801834567196,-0.600638689918805,-0.013497224737933921,0.822544912103189,0.2088635950047554,-1.9596701238797756,0.19686123586912352,-0.11564828238824053,-1.4785219903674274,1.0571222262189157,-1.763040155362734,1.030999522495951,-0.8392175232226385,0.9755451271223592,-0.47917423784528995,-1.1063349740060282,-1.1962066240806708,1.356240028570823,-0.03582603910995154,0.0917607765355023,-0.5017570435845365,0.09707754934804039,0.9686449905328892,-1.4635149481321186,0.29612027706457605,-0.23458713337514692],\"y\":[-0.16128571166600914,1.8861859012105302,-0.07444591576616721,-1.9187712152990415,-0.19236096478112252,-0.03471176970524331,1.1428228145150205,-0.5662977296027719,0.09965136508764122,-1.0623037137261049,-0.9194242342338032,-0.7832532923362371,-0.3220615162056756,-1.2308643164339552,-1.6074832345612275,0.25988279424842353,-1.3204566130842763,0.29698467323318606,0.29307247329868125,1.8657745111447566,0.6565536086338297,-0.9746816702273214,1.158595579007404,-0.8206823183517105,0.4127809269364983,-0.0771017094141042,-0.2646568332379561,0.714000494092092,-0.4465149520670211,0.8563987943234723,0.3853173797288368,-0.883857436201133,-1.142970297830623],\"z\":[-1.377669367957091,0.5150352672086598,3.852731490654721,0.570890510693167,-0.3152692446403456,-0.7728252145375718,-0.48536354782910346,-1.0777447779293061,-0.7153037092599682,0.045571839903813784,2.1439440893253257,-2.025142586657607,0.18645431476942764,0.852433334796224,0.5049872789804571,-1.2002964070557762,-0.6533292325737119,0.40498171096095553,-1.5193699659540134,1.2669111491866227,0.7746340534293368,-0.926930471578083,-3.2412673400690726,-1.0243876413342898,-1.2477831819648495,1.1631637521549596,0.06980208499001891,-1.9520877995225019,-0.20812225035727522,-0.4930009346588328,-0.6929095952606542,0.8995998754332507,0.6296288419236122],\"type\":\"scatter3d\"}],                        {\"template\":{\"data\":{\"histogram2dcontour\":[{\"type\":\"histogram2dcontour\",\"colorbar\":{\"outlinewidth\":0,\"ticks\":\"\"},\"colorscale\":[[0.0,\"#0d0887\"],[0.1111111111111111,\"#46039f\"],[0.2222222222222222,\"#7201a8\"],[0.3333333333333333,\"#9c179e\"],[0.4444444444444444,\"#bd3786\"],[0.5555555555555556,\"#d8576b\"],[0.6666666666666666,\"#ed7953\"],[0.7777777777777778,\"#fb9f3a\"],[0.8888888888888888,\"#fdca26\"],[1.0,\"#f0f921\"]]}],\"choropleth\":[{\"type\":\"choropleth\",\"colorbar\":{\"outlinewidth\":0,\"ticks\":\"\"}}],\"histogram2d\":[{\"type\":\"histogram2d\",\"colorbar\":{\"outlinewidth\":0,\"ticks\":\"\"},\"colorscale\":[[0.0,\"#0d0887\"],[0.1111111111111111,\"#46039f\"],[0.2222222222222222,\"#7201a8\"],[0.3333333333333333,\"#9c179e\"],[0.4444444444444444,\"#bd3786\"],[0.5555555555555556,\"#d8576b\"],[0.6666666666666666,\"#ed7953\"],[0.7777777777777778,\"#fb9f3a\"],[0.8888888888888888,\"#fdca26\"],[1.0,\"#f0f921\"]]}],\"heatmap\":[{\"type\":\"heatmap\",\"colorbar\":{\"outlinewidth\":0,\"ticks\":\"\"},\"colorscale\":[[0.0,\"#0d0887\"],[0.1111111111111111,\"#46039f\"],[0.2222222222222222,\"#7201a8\"],[0.3333333333333333,\"#9c179e\"],[0.4444444444444444,\"#bd3786\"],[0.5555555555555556,\"#d8576b\"],[0.6666666666666666,\"#ed7953\"],[0.7777777777777778,\"#fb9f3a\"],[0.8888888888888888,\"#fdca26\"],[1.0,\"#f0f921\"]]}],\"heatmapgl\":[{\"type\":\"heatmapgl\",\"colorbar\":{\"outlinewidth\":0,\"ticks\":\"\"},\"colorscale\":[[0.0,\"#0d0887\"],[0.1111111111111111,\"#46039f\"],[0.2222222222222222,\"#7201a8\"],[0.3333333333333333,\"#9c179e\"],[0.4444444444444444,\"#bd3786\"],[0.5555555555555556,\"#d8576b\"],[0.6666666666666666,\"#ed7953\"],[0.7777777777777778,\"#fb9f3a\"],[0.8888888888888888,\"#fdca26\"],[1.0,\"#f0f921\"]]}],\"contourcarpet\":[{\"type\":\"contourcarpet\",\"colorbar\":{\"outlinewidth\":0,\"ticks\":\"\"}}],\"contour\":[{\"type\":\"contour\",\"colorbar\":{\"outlinewidth\":0,\"ticks\":\"\"},\"colorscale\":[[0.0,\"#0d0887\"],[0.1111111111111111,\"#46039f\"],[0.2222222222222222,\"#7201a8\"],[0.3333333333333333,\"#9c179e\"],[0.4444444444444444,\"#bd3786\"],[0.5555555555555556,\"#d8576b\"],[0.6666666666666666,\"#ed7953\"],[0.7777777777777778,\"#fb9f3a\"],[0.8888888888888888,\"#fdca26\"],[1.0,\"#f0f921\"]]}],\"surface\":[{\"type\":\"surface\",\"colorbar\":{\"outlinewidth\":0,\"ticks\":\"\"},\"colorscale\":[[0.0,\"#0d0887\"],[0.1111111111111111,\"#46039f\"],[0.2222222222222222,\"#7201a8\"],[0.3333333333333333,\"#9c179e\"],[0.4444444444444444,\"#bd3786\"],[0.5555555555555556,\"#d8576b\"],[0.6666666666666666,\"#ed7953\"],[0.7777777777777778,\"#fb9f3a\"],[0.8888888888888888,\"#fdca26\"],[1.0,\"#f0f921\"]]}],\"mesh3d\":[{\"type\":\"mesh3d\",\"colorbar\":{\"outlinewidth\":0,\"ticks\":\"\"}}],\"scatter\":[{\"fillpattern\":{\"fillmode\":\"overlay\",\"size\":10,\"solidity\":0.2},\"type\":\"scatter\"}],\"parcoords\":[{\"type\":\"parcoords\",\"line\":{\"colorbar\":{\"outlinewidth\":0,\"ticks\":\"\"}}}],\"scatterpolargl\":[{\"type\":\"scatterpolargl\",\"marker\":{\"colorbar\":{\"outlinewidth\":0,\"ticks\":\"\"}}}],\"bar\":[{\"error_x\":{\"color\":\"#2a3f5f\"},\"error_y\":{\"color\":\"#2a3f5f\"},\"marker\":{\"line\":{\"color\":\"#E5ECF6\",\"width\":0.5},\"pattern\":{\"fillmode\":\"overlay\",\"size\":10,\"solidity\":0.2}},\"type\":\"bar\"}],\"scattergeo\":[{\"type\":\"scattergeo\",\"marker\":{\"colorbar\":{\"outlinewidth\":0,\"ticks\":\"\"}}}],\"scatterpolar\":[{\"type\":\"scatterpolar\",\"marker\":{\"colorbar\":{\"outlinewidth\":0,\"ticks\":\"\"}}}],\"histogram\":[{\"marker\":{\"pattern\":{\"fillmode\":\"overlay\",\"size\":10,\"solidity\":0.2}},\"type\":\"histogram\"}],\"scattergl\":[{\"type\":\"scattergl\",\"marker\":{\"colorbar\":{\"outlinewidth\":0,\"ticks\":\"\"}}}],\"scatter3d\":[{\"type\":\"scatter3d\",\"line\":{\"colorbar\":{\"outlinewidth\":0,\"ticks\":\"\"}},\"marker\":{\"colorbar\":{\"outlinewidth\":0,\"ticks\":\"\"}}}],\"scattermapbox\":[{\"type\":\"scattermapbox\",\"marker\":{\"colorbar\":{\"outlinewidth\":0,\"ticks\":\"\"}}}],\"scatterternary\":[{\"type\":\"scatterternary\",\"marker\":{\"colorbar\":{\"outlinewidth\":0,\"ticks\":\"\"}}}],\"scattercarpet\":[{\"type\":\"scattercarpet\",\"marker\":{\"colorbar\":{\"outlinewidth\":0,\"ticks\":\"\"}}}],\"carpet\":[{\"aaxis\":{\"endlinecolor\":\"#2a3f5f\",\"gridcolor\":\"white\",\"linecolor\":\"white\",\"minorgridcolor\":\"white\",\"startlinecolor\":\"#2a3f5f\"},\"baxis\":{\"endlinecolor\":\"#2a3f5f\",\"gridcolor\":\"white\",\"linecolor\":\"white\",\"minorgridcolor\":\"white\",\"startlinecolor\":\"#2a3f5f\"},\"type\":\"carpet\"}],\"table\":[{\"cells\":{\"fill\":{\"color\":\"#EBF0F8\"},\"line\":{\"color\":\"white\"}},\"header\":{\"fill\":{\"color\":\"#C8D4E3\"},\"line\":{\"color\":\"white\"}},\"type\":\"table\"}],\"barpolar\":[{\"marker\":{\"line\":{\"color\":\"#E5ECF6\",\"width\":0.5},\"pattern\":{\"fillmode\":\"overlay\",\"size\":10,\"solidity\":0.2}},\"type\":\"barpolar\"}],\"pie\":[{\"automargin\":true,\"type\":\"pie\"}]},\"layout\":{\"autotypenumbers\":\"strict\",\"colorway\":[\"#636efa\",\"#EF553B\",\"#00cc96\",\"#ab63fa\",\"#FFA15A\",\"#19d3f3\",\"#FF6692\",\"#B6E880\",\"#FF97FF\",\"#FECB52\"],\"font\":{\"color\":\"#2a3f5f\"},\"hovermode\":\"closest\",\"hoverlabel\":{\"align\":\"left\"},\"paper_bgcolor\":\"white\",\"plot_bgcolor\":\"#E5ECF6\",\"polar\":{\"bgcolor\":\"#E5ECF6\",\"angularaxis\":{\"gridcolor\":\"white\",\"linecolor\":\"white\",\"ticks\":\"\"},\"radialaxis\":{\"gridcolor\":\"white\",\"linecolor\":\"white\",\"ticks\":\"\"}},\"ternary\":{\"bgcolor\":\"#E5ECF6\",\"aaxis\":{\"gridcolor\":\"white\",\"linecolor\":\"white\",\"ticks\":\"\"},\"baxis\":{\"gridcolor\":\"white\",\"linecolor\":\"white\",\"ticks\":\"\"},\"caxis\":{\"gridcolor\":\"white\",\"linecolor\":\"white\",\"ticks\":\"\"}},\"coloraxis\":{\"colorbar\":{\"outlinewidth\":0,\"ticks\":\"\"}},\"colorscale\":{\"sequential\":[[0.0,\"#0d0887\"],[0.1111111111111111,\"#46039f\"],[0.2222222222222222,\"#7201a8\"],[0.3333333333333333,\"#9c179e\"],[0.4444444444444444,\"#bd3786\"],[0.5555555555555556,\"#d8576b\"],[0.6666666666666666,\"#ed7953\"],[0.7777777777777778,\"#fb9f3a\"],[0.8888888888888888,\"#fdca26\"],[1.0,\"#f0f921\"]],\"sequentialminus\":[[0.0,\"#0d0887\"],[0.1111111111111111,\"#46039f\"],[0.2222222222222222,\"#7201a8\"],[0.3333333333333333,\"#9c179e\"],[0.4444444444444444,\"#bd3786\"],[0.5555555555555556,\"#d8576b\"],[0.6666666666666666,\"#ed7953\"],[0.7777777777777778,\"#fb9f3a\"],[0.8888888888888888,\"#fdca26\"],[1.0,\"#f0f921\"]],\"diverging\":[[0,\"#8e0152\"],[0.1,\"#c51b7d\"],[0.2,\"#de77ae\"],[0.3,\"#f1b6da\"],[0.4,\"#fde0ef\"],[0.5,\"#f7f7f7\"],[0.6,\"#e6f5d0\"],[0.7,\"#b8e186\"],[0.8,\"#7fbc41\"],[0.9,\"#4d9221\"],[1,\"#276419\"]]},\"xaxis\":{\"gridcolor\":\"white\",\"linecolor\":\"white\",\"ticks\":\"\",\"title\":{\"standoff\":15},\"zerolinecolor\":\"white\",\"automargin\":true,\"zerolinewidth\":2},\"yaxis\":{\"gridcolor\":\"white\",\"linecolor\":\"white\",\"ticks\":\"\",\"title\":{\"standoff\":15},\"zerolinecolor\":\"white\",\"automargin\":true,\"zerolinewidth\":2},\"scene\":{\"xaxis\":{\"backgroundcolor\":\"#E5ECF6\",\"gridcolor\":\"white\",\"linecolor\":\"white\",\"showbackground\":true,\"ticks\":\"\",\"zerolinecolor\":\"white\",\"gridwidth\":2},\"yaxis\":{\"backgroundcolor\":\"#E5ECF6\",\"gridcolor\":\"white\",\"linecolor\":\"white\",\"showbackground\":true,\"ticks\":\"\",\"zerolinecolor\":\"white\",\"gridwidth\":2},\"zaxis\":{\"backgroundcolor\":\"#E5ECF6\",\"gridcolor\":\"white\",\"linecolor\":\"white\",\"showbackground\":true,\"ticks\":\"\",\"zerolinecolor\":\"white\",\"gridwidth\":2}},\"shapedefaults\":{\"line\":{\"color\":\"#2a3f5f\"}},\"annotationdefaults\":{\"arrowcolor\":\"#2a3f5f\",\"arrowhead\":0,\"arrowwidth\":1},\"geo\":{\"bgcolor\":\"white\",\"landcolor\":\"#E5ECF6\",\"subunitcolor\":\"white\",\"showland\":true,\"showlakes\":true,\"lakecolor\":\"white\"},\"title\":{\"x\":0.05},\"mapbox\":{\"style\":\"light\"}}},\"scene\":{\"domain\":{\"x\":[0.0,1.0],\"y\":[0.0,1.0]},\"xaxis\":{\"title\":{\"text\":\"X-axis\"}},\"yaxis\":{\"title\":{\"text\":\"Y-axis\"}},\"zaxis\":{\"title\":{\"text\":\"Z-axis\"}}},\"legend\":{\"title\":{\"text\":\"Category\"},\"tracegroupgap\":0},\"title\":{\"text\":\"3D Scatter Plot using Plotly\"}},                        {\"responsive\": true}                    ).then(function(){\n",
              "                            \n",
              "var gd = document.getElementById('6b7b6f7e-8710-4a8e-808e-9b31dba36d16');\n",
              "var x = new MutationObserver(function (mutations, observer) {{\n",
              "        var display = window.getComputedStyle(gd).display;\n",
              "        if (!display || display === 'none') {{\n",
              "            console.log([gd, 'removed!']);\n",
              "            Plotly.purge(gd);\n",
              "            observer.disconnect();\n",
              "        }}\n",
              "}});\n",
              "\n",
              "// Listen for the removal of the full notebook cells\n",
              "var notebookContainer = gd.closest('#notebook-container');\n",
              "if (notebookContainer) {{\n",
              "    x.observe(notebookContainer, {childList: true});\n",
              "}}\n",
              "\n",
              "// Listen for the clearing of the current output cell\n",
              "var outputEl = gd.closest('.output');\n",
              "if (outputEl) {{\n",
              "    x.observe(outputEl, {childList: true});\n",
              "}}\n",
              "\n",
              "                        })                };                            </script>        </div>\n",
              "</body>\n",
              "</html>"
            ]
          },
          "metadata": {}
        }
      ]
    }
  ]
}